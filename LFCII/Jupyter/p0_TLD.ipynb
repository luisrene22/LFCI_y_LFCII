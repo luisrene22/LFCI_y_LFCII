{
 "cells": [
  {
   "cell_type": "code",
   "execution_count": 2,
   "metadata": {},
   "outputs": [
    {
     "name": "stdout",
     "output_type": "stream",
     "text": [
      "Using matplotlib backend: MacOSX\n"
     ]
    }
   ],
   "source": [
    "import pandas as pd\n",
    "import numpy as np\n",
    "import seaborn as sns\n",
    "import matplotlib.pyplot as plt\n",
    "%matplotlib auto"
   ]
  },
  {
   "cell_type": "markdown",
   "metadata": {},
   "source": [
    "## Conjunto de datos de TL-100"
   ]
  },
  {
   "cell_type": "code",
   "execution_count": 3,
   "metadata": {},
   "outputs": [],
   "source": [
    "dataset0 = pd.read_excel(\"primera.xlsx\",sheet_name='Hoja1')"
   ]
  },
  {
   "cell_type": "code",
   "execution_count": 4,
   "metadata": {},
   "outputs": [],
   "source": [
    "dataset1 = pd.read_excel(\"primera.xlsx\",sheet_name='Hoja2')"
   ]
  },
  {
   "cell_type": "code",
   "execution_count": 5,
   "metadata": {},
   "outputs": [],
   "source": [
    "dataset2 = pd.read_excel(\"primera.xlsx\",sheet_name='Hoja3')"
   ]
  },
  {
   "cell_type": "code",
   "execution_count": 6,
   "metadata": {},
   "outputs": [],
   "source": [
    "dataset3 = pd.read_excel(\"primera.xlsx\",sheet_name='Hoja4')"
   ]
  },
  {
   "cell_type": "code",
   "execution_count": 7,
   "metadata": {},
   "outputs": [],
   "source": [
    "dataset4 = pd.read_excel(\"primera.xlsx\",sheet_name='Hoja5')"
   ]
  },
  {
   "cell_type": "code",
   "execution_count": 8,
   "metadata": {},
   "outputs": [
    {
     "data": {
      "text/plain": [
       "(200, 2)"
      ]
     },
     "execution_count": 8,
     "metadata": {},
     "output_type": "execute_result"
    }
   ],
   "source": [
    "dataset0.shape"
   ]
  },
  {
   "cell_type": "code",
   "execution_count": 9,
   "metadata": {},
   "outputs": [
    {
     "data": {
      "text/html": [
       "<div>\n",
       "<style scoped>\n",
       "    .dataframe tbody tr th:only-of-type {\n",
       "        vertical-align: middle;\n",
       "    }\n",
       "\n",
       "    .dataframe tbody tr th {\n",
       "        vertical-align: top;\n",
       "    }\n",
       "\n",
       "    .dataframe thead th {\n",
       "        text-align: right;\n",
       "    }\n",
       "</style>\n",
       "<table border=\"1\" class=\"dataframe\">\n",
       "  <thead>\n",
       "    <tr style=\"text-align: right;\">\n",
       "      <th></th>\n",
       "      <th>Temperatura [°C]</th>\n",
       "      <th>Intensidad [nA]</th>\n",
       "    </tr>\n",
       "  </thead>\n",
       "  <tbody>\n",
       "    <tr>\n",
       "      <td>count</td>\n",
       "      <td>200.000000</td>\n",
       "      <td>200.000000</td>\n",
       "    </tr>\n",
       "    <tr>\n",
       "      <td>mean</td>\n",
       "      <td>173.675000</td>\n",
       "      <td>12232.240000</td>\n",
       "    </tr>\n",
       "    <tr>\n",
       "      <td>std</td>\n",
       "      <td>72.122588</td>\n",
       "      <td>13157.881097</td>\n",
       "    </tr>\n",
       "    <tr>\n",
       "      <td>min</td>\n",
       "      <td>49.000000</td>\n",
       "      <td>93.000000</td>\n",
       "    </tr>\n",
       "    <tr>\n",
       "      <td>25%</td>\n",
       "      <td>111.750000</td>\n",
       "      <td>1507.500000</td>\n",
       "    </tr>\n",
       "    <tr>\n",
       "      <td>50%</td>\n",
       "      <td>173.500000</td>\n",
       "      <td>5431.500000</td>\n",
       "    </tr>\n",
       "    <tr>\n",
       "      <td>75%</td>\n",
       "      <td>235.500000</td>\n",
       "      <td>21032.250000</td>\n",
       "    </tr>\n",
       "    <tr>\n",
       "      <td>max</td>\n",
       "      <td>298.000000</td>\n",
       "      <td>49231.000000</td>\n",
       "    </tr>\n",
       "  </tbody>\n",
       "</table>\n",
       "</div>"
      ],
      "text/plain": [
       "       Temperatura [°C]  Intensidad [nA]\n",
       "count        200.000000       200.000000\n",
       "mean         173.675000     12232.240000\n",
       "std           72.122588     13157.881097\n",
       "min           49.000000        93.000000\n",
       "25%          111.750000      1507.500000\n",
       "50%          173.500000      5431.500000\n",
       "75%          235.500000     21032.250000\n",
       "max          298.000000     49231.000000"
      ]
     },
     "execution_count": 9,
     "metadata": {},
     "output_type": "execute_result"
    }
   ],
   "source": [
    "dataset0.describe()"
   ]
  },
  {
   "cell_type": "code",
   "execution_count": 10,
   "metadata": {},
   "outputs": [
    {
     "data": {
      "text/html": [
       "<div>\n",
       "<style scoped>\n",
       "    .dataframe tbody tr th:only-of-type {\n",
       "        vertical-align: middle;\n",
       "    }\n",
       "\n",
       "    .dataframe tbody tr th {\n",
       "        vertical-align: top;\n",
       "    }\n",
       "\n",
       "    .dataframe thead th {\n",
       "        text-align: right;\n",
       "    }\n",
       "</style>\n",
       "<table border=\"1\" class=\"dataframe\">\n",
       "  <thead>\n",
       "    <tr style=\"text-align: right;\">\n",
       "      <th></th>\n",
       "      <th>Temperatura [°C]</th>\n",
       "      <th>Intensidad [nA]</th>\n",
       "    </tr>\n",
       "  </thead>\n",
       "  <tbody>\n",
       "    <tr>\n",
       "      <td>0</td>\n",
       "      <td>49</td>\n",
       "      <td>93</td>\n",
       "    </tr>\n",
       "    <tr>\n",
       "      <td>1</td>\n",
       "      <td>51</td>\n",
       "      <td>141</td>\n",
       "    </tr>\n",
       "    <tr>\n",
       "      <td>2</td>\n",
       "      <td>52</td>\n",
       "      <td>157</td>\n",
       "    </tr>\n",
       "    <tr>\n",
       "      <td>3</td>\n",
       "      <td>53</td>\n",
       "      <td>201</td>\n",
       "    </tr>\n",
       "    <tr>\n",
       "      <td>4</td>\n",
       "      <td>55</td>\n",
       "      <td>229</td>\n",
       "    </tr>\n",
       "  </tbody>\n",
       "</table>\n",
       "</div>"
      ],
      "text/plain": [
       "   Temperatura [°C]  Intensidad [nA]\n",
       "0                49               93\n",
       "1                51              141\n",
       "2                52              157\n",
       "3                53              201\n",
       "4                55              229"
      ]
     },
     "execution_count": 10,
     "metadata": {},
     "output_type": "execute_result"
    }
   ],
   "source": [
    "dataset0.head()"
   ]
  },
  {
   "cell_type": "code",
   "execution_count": 11,
   "metadata": {},
   "outputs": [],
   "source": [
    "x0 = dataset0[\"Temperatura [°C]\"]\n",
    "y0 = dataset0[\"Intensidad [nA]\"]"
   ]
  },
  {
   "cell_type": "code",
   "execution_count": 12,
   "metadata": {},
   "outputs": [],
   "source": [
    "x1 = dataset1[\"Temperatura [°C]\"]\n",
    "y1 = dataset1[\"Intensidad [nA]\"]"
   ]
  },
  {
   "cell_type": "code",
   "execution_count": 13,
   "metadata": {},
   "outputs": [],
   "source": [
    "x2 = dataset2[\"Temperatura [°C]\"]\n",
    "y2 = dataset2[\"Intensidad [nA]\"]"
   ]
  },
  {
   "cell_type": "code",
   "execution_count": 14,
   "metadata": {},
   "outputs": [],
   "source": [
    "x3 = dataset3[\"Temperatura [°C]\"]\n",
    "y3 = dataset3[\"Intensidad [nA]\"]"
   ]
  },
  {
   "cell_type": "code",
   "execution_count": 15,
   "metadata": {},
   "outputs": [],
   "source": [
    "x4 = dataset4[\"Temperatura [°C]\"]\n",
    "y4 = dataset4[\"Intensidad [nA]\"]"
   ]
  },
  {
   "cell_type": "code",
   "execution_count": 18,
   "metadata": {},
   "outputs": [],
   "source": [
    "plt.plot(x0,y0,color='black',label='TC = 5 °C')\n",
    "plt.plot(x1,y1,color='red',label='TC = 25 °C')\n",
    "plt.plot(x2,y2,color='blue',label='TC = 10 °C')\n",
    "plt.plot(x3,y3,color='darkmagenta',label='TC = 20 °C')\n",
    "#plt.plot(x4,y4,color='deeppink',label='TC = 15 °C')\n",
    "plt.title('Curvas de resplandor vs Temperatura')\n",
    "plt.xlabel(\"Temperatura [°C]\")\n",
    "plt.ylabel(\"Intensidad [nA]\")\n",
    "plt.legend(['TC = 5 °C','TC = 25 °C','TC = 10 °C','TC = 20 °C'],loc=2)\n",
    "#plt.axvline(x=100, ymin=0.0, ymax = 30, linewidth=2, color='darkblue')\n",
    "sns.set()\n",
    "plt.show()"
   ]
  },
  {
   "cell_type": "code",
   "execution_count": 60,
   "metadata": {},
   "outputs": [],
   "source": [
    "fig, ax = plt.subplots()\n",
    "plt.plot(x4,y4,color='deeppink',label='TC = 15 °C')\n",
    "#plt.axvline(x=150.307, ymin=0.0, ymax = 1.2881e+06, linewidth=2, color='darkblue',linestyle=\"--\")\n",
    "ax.hlines(y=1.2881e+06, xmin=55.0, xmax=150.307, color='black',linestyle=\"--\")\n",
    "ax.vlines(x=150.307, ymin=0.0, ymax=1.2881e+06, color='black',linestyle=\"--\")\n",
    "plt.text(155,1.2881e+06, 'Temp. critica')\n",
    "#ax.hlines(x=0.0, ymin=0.0, ymax = 1.2881e+06, linewidth=2, color='darkblue',linestyle=\"--\")\n",
    "#plt.axvline(x=298, ymin=0.0, ymax = 30, linewidth=2, color='darkblue')\n",
    "#plt.axvline(x=101, ymin=0.0, ymax = 30, linewidth=2, color='darkred')\n",
    "#plt.axvline(x=248, ymin=0.0, ymax = 30, linewidth=2, color='darkred')\n",
    "#plt.title('Curva de resplandor vs Temperatura\\nTL-100 irradiado por 42 hrs')\n",
    "plt.title('Curvas de resplandor vs Temperatura')\n",
    "plt.legend(['TC = 15 °C'],loc=2)\n",
    "plt.xlabel(\"Temperatura [°C]\")\n",
    "plt.ylabel(\"Intensidad [nA]\")\n",
    "sns.set()\n",
    "plt.show()"
   ]
  },
  {
   "cell_type": "code",
   "execution_count": 21,
   "metadata": {},
   "outputs": [],
   "source": [
    "dataset5 = pd.read_excel(\"primera.xlsx\",sheet_name='Hoja6')"
   ]
  },
  {
   "cell_type": "code",
   "execution_count": 22,
   "metadata": {},
   "outputs": [],
   "source": [
    "xrl = dataset5[\"Temperatura [°C]\"]\n",
    "yrl = dataset5[\"Intensidad [nA]\"]"
   ]
  },
  {
   "cell_type": "code",
   "execution_count": 61,
   "metadata": {},
   "outputs": [],
   "source": [
    "plt.scatter(xrl,yrl,label='Datos')\n",
    "plt.plot(xrl,(-1.13e07)+(88037)*xrl,color='red',label = 'Ajuste Lineal')\n",
    "plt.title('Regresion lineal de los maximos \\n de la muestra irradiada por 42hrs')\n",
    "plt.xlabel(\"Temperatura [°C]\")\n",
    "plt.ylabel(\"Intensidad [nA]\")\n",
    "plt.legend(['Ajuste Lineal Y=(-1.13e07)+(88037)*x','Datos'],loc=2)\n",
    "plt.show()"
   ]
  },
  {
   "cell_type": "code",
   "execution_count": null,
   "metadata": {},
   "outputs": [],
   "source": []
  },
  {
   "cell_type": "markdown",
   "metadata": {},
   "source": [
    "### Normalizalización de los datos de TLD-100\n",
    "\n",
    "Para un comparativo más claro, puedes normalizar cada curva a su valor máximo y quedarán todas del mismo tamaño. Localizar las temperaturas para los picos claramente identificables y graficar sus valores para en función de la tasa de calentamiento."
   ]
  },
  {
   "cell_type": "markdown",
   "metadata": {},
   "source": [
    "La normalización estadística es la transformación de escala de la distribución de una variable con el objetivo de poder hacer comparaciones respecto a conjuntos de elementos y a la media mediante la eliminando los efectos de influencias.\n",
    "\n",
    "En otras palabras, la normalización son proporciones sin unidades de medida (adimensionales o invariantes de escala) que nos permiten poder comparar elementos de distintas variables y distintas unidades de medida. \n",
    "\n",
    "Nomarmalización estandar:\n",
    "\n",
    "$$Z=\\frac{X-\\mu}{\\sigma}$$\n",
    "\n",
    "Donde:\n",
    "- Z es el valor de la normalización.\n",
    "- X es el valor a normalizar.\n",
    "- $\\mu$ es el valor promedio o media.\n",
    "- $\\sigma$ es la desviación estandar."
   ]
  },
  {
   "cell_type": "code",
   "execution_count": 20,
   "metadata": {},
   "outputs": [],
   "source": [
    "from sklearn import preprocessing"
   ]
  },
  {
   "cell_type": "code",
   "execution_count": 21,
   "metadata": {},
   "outputs": [],
   "source": [
    "x = dataset0.values #returns a numpy array"
   ]
  },
  {
   "cell_type": "code",
   "execution_count": 22,
   "metadata": {},
   "outputs": [],
   "source": [
    "min_max_scaler = preprocessing.MinMaxScaler()"
   ]
  },
  {
   "cell_type": "code",
   "execution_count": 23,
   "metadata": {},
   "outputs": [],
   "source": [
    "x_scaled = min_max_scaler.fit_transform(x)"
   ]
  },
  {
   "cell_type": "code",
   "execution_count": 24,
   "metadata": {},
   "outputs": [],
   "source": [
    "df = pd.DataFrame(x_scaled)"
   ]
  },
  {
   "cell_type": "code",
   "execution_count": 25,
   "metadata": {},
   "outputs": [
    {
     "data": {
      "text/plain": [
       "[<matplotlib.lines.Line2D at 0x1a24802790>]"
      ]
     },
     "execution_count": 25,
     "metadata": {},
     "output_type": "execute_result"
    }
   ],
   "source": [
    "plt.plot(df[0],df[1])"
   ]
  },
  {
   "cell_type": "code",
   "execution_count": 26,
   "metadata": {},
   "outputs": [],
   "source": [
    "### Normalización estandar\n",
    "### normalized_df=(df-df.mean())/df.std()"
   ]
  },
  {
   "cell_type": "code",
   "execution_count": 27,
   "metadata": {},
   "outputs": [],
   "source": [
    "normalized_df0=(dataset0[\"Intensidad [nA]\"]-dataset0[\"Intensidad [nA]\"].mean())/dataset0[\"Intensidad [nA]\"].std()\n",
    "normalized_df1=(dataset1[\"Intensidad [nA]\"]-dataset1[\"Intensidad [nA]\"].mean())/dataset1[\"Intensidad [nA]\"].std()\n",
    "normalized_df2=(dataset2[\"Intensidad [nA]\"]-dataset2[\"Intensidad [nA]\"].mean())/dataset2[\"Intensidad [nA]\"].std()\n",
    "normalized_df3=(dataset3[\"Intensidad [nA]\"]-dataset3[\"Intensidad [nA]\"].mean())/dataset3[\"Intensidad [nA]\"].std()\n",
    "normalized_df4=(dataset4[\"Intensidad [nA]\"]-dataset4[\"Intensidad [nA]\"].mean())/dataset4[\"Intensidad [nA]\"].std()"
   ]
  },
  {
   "cell_type": "code",
   "execution_count": 40,
   "metadata": {},
   "outputs": [],
   "source": [
    "plt.plot(x0,normalized_df0)\n",
    "plt.plot(x1,normalized_df1)\n",
    "plt.plot(x2,normalized_df2)\n",
    "plt.plot(x3,normalized_df3)\n",
    "plt.plot(x3,normalized_df4)\n",
    "plt.show()"
   ]
  },
  {
   "cell_type": "code",
   "execution_count": 29,
   "metadata": {},
   "outputs": [],
   "source": [
    "### Normalización min-max\n",
    "### normalized_df=(df-df.min())/(df.max()-df.min())"
   ]
  },
  {
   "cell_type": "code",
   "execution_count": 46,
   "metadata": {},
   "outputs": [],
   "source": [
    "normalized_df0=(dataset0-dataset0[\"Intensidad [nA]\"].min())/(dataset0[\"Intensidad [nA]\"].max()-dataset0[\"Intensidad [nA]\"].min())\n",
    "normalized_df1=(dataset1-dataset1[\"Intensidad [nA]\"].min())/(dataset1[\"Intensidad [nA]\"].max()-dataset1[\"Intensidad [nA]\"].min())\n",
    "normalized_df2=(dataset2-dataset2[\"Intensidad [nA]\"].min())/(dataset2[\"Intensidad [nA]\"].max()-dataset2[\"Intensidad [nA]\"].min())\n",
    "normalized_df3=(dataset3-dataset3[\"Intensidad [nA]\"].min())/(dataset3[\"Intensidad [nA]\"].max()-dataset3[\"Intensidad [nA]\"].min())\n",
    "normalized_df4=(dataset4-dataset4[\"Intensidad [nA]\"].min())/(dataset4[\"Intensidad [nA]\"].max()-dataset4[\"Intensidad [nA]\"].min())"
   ]
  },
  {
   "cell_type": "code",
   "execution_count": 53,
   "metadata": {},
   "outputs": [
    {
     "data": {
      "text/plain": [
       "93"
      ]
     },
     "execution_count": 53,
     "metadata": {},
     "output_type": "execute_result"
    }
   ],
   "source": [
    "dataset0[\"Intensidad [nA]\"].min()"
   ]
  },
  {
   "cell_type": "code",
   "execution_count": 48,
   "metadata": {},
   "outputs": [],
   "source": [
    "plt.plot(x0,normalized_df0,color='black',label='TC = 5 °C')\n",
    "#plt.plot(x2,normalized_df2,color='blue',label='TC = 10 °C')\n",
    "#plt.plot(x4,normalized_df4,color='deeppink',label='TC = 15 °C')\n",
    "#plt.plot(x3,normalized_df3,color='darkmagenta',label='TC = 20 °C')\n",
    "#plt.plot(x1,normalized_df1,color='red',label='TC = 25 °C')\n",
    "plt.title('Curvas de resplandor vs Temperatura')\n",
    "plt.xlabel(\"Temperatura [°C]\")\n",
    "plt.ylabel(\"Intensidad [nA]\")\n",
    "plt.legend(['TC = 5 °C','TC = 10 °C','TC = 15 °C','TC = 20 °C','TC = 25 °C'],loc=2)\n",
    "plt.show()"
   ]
  },
  {
   "cell_type": "markdown",
   "metadata": {},
   "source": [
    "## Primera  Grafica"
   ]
  },
  {
   "cell_type": "code",
   "execution_count": 3,
   "metadata": {},
   "outputs": [],
   "source": [
    "dataset0 = pd.read_excel(\"primera.xlsx\",sheet_name='5C')\n",
    "dataset1 = pd.read_excel(\"primera.xlsx\",sheet_name='10C')\n",
    "dataset2 = pd.read_excel(\"primera.xlsx\",sheet_name='15C')\n",
    "dataset3 = pd.read_excel(\"primera.xlsx\",sheet_name='20C')\n",
    "dataset4 = pd.read_excel(\"primera.xlsx\",sheet_name='25C')"
   ]
  },
  {
   "cell_type": "code",
   "execution_count": 4,
   "metadata": {},
   "outputs": [],
   "source": [
    "x0 = dataset0[\"Temperatura [°C]\"]\n",
    "y0 = dataset0[\"Normalizador\"]\n",
    "x1 = dataset1[\"Temperatura [°C]\"]\n",
    "y1 = dataset1[\"Normalizador\"]\n",
    "x2 = dataset2[\"Temperatura [°C]\"]\n",
    "y2 = dataset2[\"Normalizador\"]\n",
    "x3 = dataset3[\"Temperatura [°C]\"]\n",
    "y3 = dataset3[\"Normalizador\"]\n",
    "x4 = dataset4[\"Temperatura [°C]\"]\n",
    "y4 = dataset4[\"Normalizador\"]"
   ]
  },
  {
   "cell_type": "code",
   "execution_count": 5,
   "metadata": {},
   "outputs": [],
   "source": [
    "plt.plot(x0,y0,color='black',label='TC = 5 °C')\n",
    "plt.plot(x1,y1,color='blue',label='TC = 10 °C')\n",
    "plt.plot(x2,y2,color='deeppink',label='TC = 15 °C')\n",
    "plt.plot(x3,y3,color='darkmagenta',label='TC = 20 °C')\n",
    "plt.plot(x4,y4,color='red',label='TC = 25 °C')\n",
    "plt.legend(['TC = 5 °C','TC = 10 °C','TC = 15 °C','TC = 20 °C','TC = 25 °C'],loc=2)\n",
    "plt.title('Curvas de resplandor vs Temperatura\\nCurvas normalizadas de TLD-100')\n",
    "plt.xlabel(\"Temperatura [°C]\")\n",
    "plt.ylabel(\"Intensidad\")\n",
    "sns.set()\n",
    "plt.show()"
   ]
  },
  {
   "cell_type": "code",
   "execution_count": 7,
   "metadata": {},
   "outputs": [],
   "source": [
    "plt.plot(x2,y2,color='deeppink',label='TC = 15 °C')\n",
    "sns.set()\n",
    "plt.show()"
   ]
  },
  {
   "cell_type": "markdown",
   "metadata": {},
   "source": [
    "## Conjunto de datos de TL-200"
   ]
  },
  {
   "cell_type": "code",
   "execution_count": 21,
   "metadata": {},
   "outputs": [],
   "source": [
    "dataset_0 = pd.read_excel(\"segunda.xls\",sheet_name='Hoja1')"
   ]
  },
  {
   "cell_type": "code",
   "execution_count": 22,
   "metadata": {},
   "outputs": [],
   "source": [
    "dataset_1 = pd.read_excel(\"segunda.xls\",sheet_name='Hoja2')"
   ]
  },
  {
   "cell_type": "code",
   "execution_count": 23,
   "metadata": {},
   "outputs": [],
   "source": [
    "dataset_2 = pd.read_excel(\"segunda.xls\",sheet_name='Hoja3')"
   ]
  },
  {
   "cell_type": "code",
   "execution_count": 3,
   "metadata": {},
   "outputs": [],
   "source": [
    "dataset_3 = pd.read_excel(\"segunda.xls\",sheet_name='Hoja4')"
   ]
  },
  {
   "cell_type": "code",
   "execution_count": 25,
   "metadata": {},
   "outputs": [],
   "source": [
    "dataset_4 = pd.read_excel(\"segunda.xls\",sheet_name='Hoja5')"
   ]
  },
  {
   "cell_type": "code",
   "execution_count": 26,
   "metadata": {},
   "outputs": [],
   "source": [
    "x_0 = dataset_0[\"Temperatura [°C]\"]\n",
    "y_0 = dataset_0[\"Intensidad [nA]\"]"
   ]
  },
  {
   "cell_type": "code",
   "execution_count": 27,
   "metadata": {},
   "outputs": [],
   "source": [
    "x_1 = dataset_1[\"Temperatura [°C]\"]\n",
    "y_1 = dataset_1[\"Intensidad [nA]\"]"
   ]
  },
  {
   "cell_type": "code",
   "execution_count": 28,
   "metadata": {},
   "outputs": [],
   "source": [
    "x_2 = dataset_2[\"Temperatura [°C]\"]\n",
    "y_2 = dataset_2[\"Intensidad [nA]\"]"
   ]
  },
  {
   "cell_type": "code",
   "execution_count": 4,
   "metadata": {},
   "outputs": [],
   "source": [
    "x_3 = dataset_3[\"Temperatura [°C]\"]\n",
    "y_3 = dataset_3[\"Intensidad [nA]\"]"
   ]
  },
  {
   "cell_type": "code",
   "execution_count": 30,
   "metadata": {},
   "outputs": [],
   "source": [
    "x_4 = dataset_4[\"Temperatura [°C]\"]\n",
    "y_4 = dataset_4[\"Intensidad [nA]\"]"
   ]
  },
  {
   "cell_type": "code",
   "execution_count": 32,
   "metadata": {},
   "outputs": [],
   "source": [
    "plt.plot(x_0,y_0,color='black',label='TC = 30 °C')\n",
    "plt.plot(x_1,y_1,color='red',label='TC = 5 °C')\n",
    "plt.plot(x_2,y_2,color='blue',label='TC = 10 °C')\n",
    "plt.plot(x_3,y_3,color='darkmagenta',label='TC = 15 °C')\n",
    "plt.plot(x_4,y_4,color='deeppink',label='TC = 20 °C')\n",
    "plt.title('Curvas de resplandor vs Temperatura')\n",
    "plt.xlabel(\"Temperatura [°C]\")\n",
    "plt.ylabel(\"Intensidad [nA]\")\n",
    "plt.legend(['TC = 30 °C','TC = 5 °C','TC = 10 °C','TC = 15 °C','TC = 20 °C'],loc=1)\n",
    "sns.set()\n",
    "plt.show()"
   ]
  },
  {
   "cell_type": "markdown",
   "metadata": {},
   "source": [
    "## Curva de 15 C de TLD-200"
   ]
  },
  {
   "cell_type": "code",
   "execution_count": 9,
   "metadata": {},
   "outputs": [],
   "source": [
    "plt.plot(x_3,y_3,color='darkmagenta',label='TC = 15 °C')\n",
    "plt.title('Curvas de resplandor vs Temperatura')\n",
    "plt.xlabel(\"Temperatura [°C]\")\n",
    "plt.ylabel(\"Intensidad [nA]\")\n",
    "plt.legend(['TC = 15 °C'],loc=2)\n",
    "sns.set()\n",
    "plt.show()"
   ]
  },
  {
   "cell_type": "code",
   "execution_count": null,
   "metadata": {},
   "outputs": [],
   "source": []
  },
  {
   "cell_type": "code",
   "execution_count": 13,
   "metadata": {},
   "outputs": [],
   "source": [
    "dataset5 = pd.read_excel(\"segunda.xls\",sheet_name='Hoja6')"
   ]
  },
  {
   "cell_type": "code",
   "execution_count": 14,
   "metadata": {},
   "outputs": [],
   "source": [
    "xrl2 = dataset5[\"Temperatura [°C]\"]\n",
    "yrl2 = dataset5[\"Intensidad [nA]\"]"
   ]
  },
  {
   "cell_type": "code",
   "execution_count": 38,
   "metadata": {},
   "outputs": [],
   "source": [
    "plt.scatter(xrl2,yrl2,label='Datos')\n",
    "plt.plot(xrl2,(1.66e+06)+(-5245.7)*xrl2,color='red',label = 'Ajuste Lineal')\n",
    "plt.title('Regresion lineal de los maximos \\n de la muestra irradiada por 15 mins')\n",
    "plt.xlabel(\"Temperatura [°C]\")\n",
    "plt.ylabel(\"Intensidad [nA]\")\n",
    "plt.legend(['Ajuste Lineal Y=((1.66e+06)+(-5245.7)*x','Datos'],loc=1)\n",
    "plt.show()"
   ]
  },
  {
   "cell_type": "markdown",
   "metadata": {},
   "source": [
    "## Segunda Grafica"
   ]
  },
  {
   "cell_type": "code",
   "execution_count": 3,
   "metadata": {},
   "outputs": [],
   "source": [
    "dataset0 = pd.read_excel(\"segunda.xls\",sheet_name='5C')\n",
    "dataset1 = pd.read_excel(\"segunda.xls\",sheet_name='10C')\n",
    "dataset2 = pd.read_excel(\"segunda.xls\",sheet_name='15C')\n",
    "dataset3 = pd.read_excel(\"segunda.xls\",sheet_name='20C')\n",
    "dataset4 = pd.read_excel(\"segunda.xls\",sheet_name='30C')"
   ]
  },
  {
   "cell_type": "code",
   "execution_count": 4,
   "metadata": {},
   "outputs": [],
   "source": [
    "x0 = dataset0[\"Temperatura [°C]\"]\n",
    "y0 = dataset0[\"Normalizador\"]\n",
    "x1 = dataset1[\"Temperatura [°C]\"]\n",
    "y1 = dataset1[\"Normalizador\"]\n",
    "x2 = dataset2[\"Temperatura [°C]\"]\n",
    "y2 = dataset2[\"Normalizador\"]\n",
    "x3 = dataset3[\"Temperatura [°C]\"]\n",
    "y3 = dataset3[\"Normalizador\"]\n",
    "x4 = dataset4[\"Temperatura [°C]\"]\n",
    "y4 = dataset4[\"Normalizador\"]"
   ]
  },
  {
   "cell_type": "code",
   "execution_count": 7,
   "metadata": {},
   "outputs": [],
   "source": [
    "plt.plot(x0,y0,color='black',label='TC = 5 °C')\n",
    "plt.plot(x1,y1,color='blue',label='TC = 10 °C')\n",
    "plt.plot(x2,y2,color='deeppink',label='TC = 15 °C')\n",
    "plt.plot(x3,y3,color='darkmagenta',label='TC = 20 °C')\n",
    "plt.plot(x4,y4,color='red',label='TC = 25 °C')\n",
    "plt.legend(['TC = 5 °C','TC = 10 °C','TC = 15 °C','TC = 20 °C','TC = 25 °C'],loc=1)\n",
    "plt.title('Curvas de resplandor vs Temperatura\\nCurvas normalizadas de TLD-200')\n",
    "plt.xlabel(\"Temperatura [°C]\")\n",
    "plt.ylabel(\"Intensidad\")\n",
    "sns.set()\n",
    "plt.show()"
   ]
  },
  {
   "cell_type": "code",
   "execution_count": null,
   "metadata": {},
   "outputs": [],
   "source": []
  },
  {
   "cell_type": "code",
   "execution_count": null,
   "metadata": {},
   "outputs": [],
   "source": []
  }
 ],
 "metadata": {
  "kernelspec": {
   "display_name": "Python 3",
   "language": "python",
   "name": "python3"
  },
  "language_info": {
   "codemirror_mode": {
    "name": "ipython",
    "version": 3
   },
   "file_extension": ".py",
   "mimetype": "text/x-python",
   "name": "python",
   "nbconvert_exporter": "python",
   "pygments_lexer": "ipython3",
   "version": "3.7.4"
  }
 },
 "nbformat": 4,
 "nbformat_minor": 2
}
